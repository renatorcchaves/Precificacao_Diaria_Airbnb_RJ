{
 "cells": [
  {
   "cell_type": "markdown",
   "id": "8c15fd3a-73e0-4db8-a14e-c85bae5bdcdf",
   "metadata": {},
   "source": [
    "## Deploy do Projeto"
   ]
  },
  {
   "cell_type": "markdown",
   "id": "9ff698c7-34f7-441d-b27c-325b91122720",
   "metadata": {},
   "source": [
    "As etapas de Deploy deste projeto estão descritas abaixo:\n",
    "\n",
    "- **Passo 1**: Criar arquivo \".joblib\" para o modelo de machine learning criado nesse projeto (usar arquivo \"modelo_extratrees.joblib que está na pasta ../modelos)\n",
    "- **Passo 2:** Desenvolver código em arquivo \".py\" para uso na plataforma Streamlit. É o código que está sendo desenvolvido abaixo, sendo salvo como \"deploy_projet_airbnb_rj.py\"\n",
    "- **Passo 3**: Importar Streamlit usando o arquivo \".py\" criado para execução do modelo \n",
    "- **Passo 4**: Deploy feito - Basta simular as informações de entrada na plataforma do Streamlit para obter o valor da diária de um imóvel de um airbnb no Rio de Janeiro"
   ]
  },
  {
   "cell_type": "code",
   "execution_count": 1,
   "id": "7050b9d5-79d4-425f-84f8-78452ee77df8",
   "metadata": {},
   "outputs": [],
   "source": [
    "import pandas as pd\n",
    "import streamlit as st\n",
    "import joblib"
   ]
  },
  {
   "cell_type": "markdown",
   "id": "64456601-6ecb-4581-9231-81b25a459f49",
   "metadata": {},
   "source": [
    "### Verificando a ordem das colunas do dataframe utilizado para treinar o modelo de machine learning usado"
   ]
  },
  {
   "cell_type": "code",
   "execution_count": 2,
   "id": "cba31eaf-08e1-4c6e-859a-6f349d797ead",
   "metadata": {},
   "outputs": [
    {
     "name": "stdout",
     "output_type": "stream",
     "text": [
      "['Unnamed: 0', 'host_is_superhost', 'host_listings_count', 'latitude', 'longitude', 'accommodates', 'bathrooms', 'bedrooms', 'beds', 'extra_people', 'minimum_nights', 'instant_bookable', 'ano', 'mes', 'n_amenities', 'property_type_Apartment', 'property_type_House', 'property_type_Outros', 'room_type_Entire home/apt', 'room_type_Outros', 'cancellation_policy_Strict**', 'cancellation_policy_flexible', 'cancellation_policy_moderate', 'price']\n"
     ]
    }
   ],
   "source": [
    "dados = pd.read_csv('../dados/dados_finais.csv')\n",
    "# Se não existir esse arquivo, precisa rodar o arquivo \"df_projeto_airbnb_rj.ipynb\" para ler os dados usados e tratados nesse projeto.\n",
    "\n",
    "print(list(dados.columns))"
   ]
  },
  {
   "cell_type": "markdown",
   "id": "c71a05ab",
   "metadata": {},
   "source": [
    "### Separando em features numéricas, features boolianas (verdeiro ou falso), e features categóricas"
   ]
  },
  {
   "cell_type": "code",
   "execution_count": 3,
   "id": "88b5d298-63c8-43c3-be11-433fb5551ed5",
   "metadata": {},
   "outputs": [
    {
     "name": "stdout",
     "output_type": "stream",
     "text": [
      "{'property_type_Apartment': 0, 'property_type_House': 0, 'property_type_Outros': 0, 'room_type_Entire home/apt': 0, 'room_type_Outros': 0, 'cancellation_policy_flexible': 0, 'cancellation_policy_moderate': 0, 'cancellation_policy_Strict**': 0}\n"
     ]
    }
   ],
   "source": [
    "ordem_colunas_modelo = list(dados.columns)[1:-1]\n",
    "\n",
    "\n",
    "x_numericos = {'latitude': 0, 'longitude': 0, 'accommodates': 0, 'bathrooms': 0, 'bedrooms': 0, 'beds': 0, 'extra_people': 0, 'host_listings_count': 0, \n",
    "               'minimum_nights': 0, 'ano': 0, 'mes': 0, 'n_amenities': 0}\n",
    "\n",
    "x_tf = {'host_is_superhost': 0, 'instant_bookable': 0, 'is_business_travel_ready': 0 }\n",
    "\n",
    "# Esse dicionário está sendo criado para fornecer as opções dentro das \"caixas de seleção\" do streamlit\n",
    "x_listas = {'property_type': ['Apartment', 'House', 'Outros'], \n",
    "            'room_type': ['Entire home/apt', 'Outros'], \n",
    "            'cancellation_policy': ['flexible', 'moderate', 'Strict**']\n",
    "           }\n",
    "\n",
    "# Esse dicionário está sendo criado para receber os valores 0 ou 1 de acordo com as nossas seleções dentro do streamlit \n",
    "\n",
    "dicionario = {}\n",
    "for item in x_listas:\n",
    "    # feature --> chaves do dicionário:\n",
    "    # x_listas['bed type'] --> é a lista com os possíveis valores do 'bed_type'\n",
    "    for valor in x_listas[item]:\n",
    "        dicionario[f'{item}_{valor}'] = 0        \n",
    "\n",
    "print(dicionario)\n"
   ]
  },
  {
   "cell_type": "markdown",
   "id": "bd6cab06-5c00-4eb3-a0db-72a0f060c361",
   "metadata": {},
   "source": [
    "### Criando as caixas de seleção dentro do streamlit"
   ]
  },
  {
   "cell_type": "code",
   "execution_count": 4,
   "id": "ed0a3fae-003a-4963-a1b2-5d5abe17862a",
   "metadata": {},
   "outputs": [
    {
     "name": "stderr",
     "output_type": "stream",
     "text": [
      "2024-10-13 11:39:58.259 \n",
      "  \u001b[33m\u001b[1mWarning:\u001b[0m to view this Streamlit app on a browser, run it with the following\n",
      "  command:\n",
      "\n",
      "    streamlit run c:\\Users\\brcprrcchave\\AppData\\Local\\anaconda3\\Lib\\site-packages\\ipykernel_launcher.py [ARGUMENTS]\n"
     ]
    }
   ],
   "source": [
    "for item in x_numericos:\n",
    "    if item in ('latitude', 'longitude'):\n",
    "        valor = st.number_input(f'{item}', step=0.00001, value=float(0), format=\"%.5f\")                  \n",
    "    elif item == 'extra_people':\n",
    "        valor = st.number_input(f'{item}', step=0.01, value=0.0)\n",
    "    else: \n",
    "        valor = st.number_input(f'{item}', step=1, value=0) \n",
    "    \n",
    "    x_numericos[item] = valor\n",
    "\n",
    "for item in x_tf:\n",
    "    valor = st.selectbox(f'{item}', ('Sim', 'Não'))\n",
    "    if valor == \"Sim\":\n",
    "        x_tf[item] = 1\n",
    "    else:\n",
    "        x_tf[item] = 0\n",
    "\n",
    "for item in x_listas: \n",
    "    valor = st.selectbox(f'{item}', x_listas[item])\n",
    "    dicionario[f\"{item}_{valor}\"] = 1"
   ]
  },
  {
   "cell_type": "markdown",
   "id": "69cfff99-256e-42af-bf28-de38bdf701ae",
   "metadata": {},
   "source": [
    "### Criando a caixa de seleção dentro do streamlit para prever o resultado do valor do imóvel"
   ]
  },
  {
   "cell_type": "code",
   "execution_count": 5,
   "id": "94646f07-6f1c-4871-a84a-978973129f04",
   "metadata": {},
   "outputs": [],
   "source": [
    "botao = st.button('Prever valor do imóvel')\n",
    "\n",
    "if botao:\n",
    "    \n",
    "    dicionario.update(x_numericos)                     \n",
    "    dicionario.update(x_tf)                            \n",
    "    \n",
    "    valores_x = pd.DataFrame(dicionario, index=[0])\n",
    "    valores_x = valores_x[ordem_colunas_modelo]        \n",
    "    \n",
    "    modelo = joblib.load('../modelos/modelo_extratrees.joblib')         \n",
    "    # Se não existir nenhum modelo nessa pasta, precisa rodar o arquivo \"df_projeto_airbnb_rj.ipynb\" para extrair o modelo criado neste projeto\n",
    "    \n",
    "    preco = modelo.predict(valores_x)\n",
    "\n",
    "    st.write(\"O valor da diária imóvel será de preco: R$ {:.2f}\".format(preco[0]))"
   ]
  },
  {
   "cell_type": "markdown",
   "id": "bd1edd2f",
   "metadata": {},
   "source": [
    "### Transformando o arquivo .ipynb para .py para uso no Streamlit"
   ]
  },
  {
   "cell_type": "markdown",
   "id": "7a8daf1a",
   "metadata": {},
   "source": [
    "No terminal do VSCode ou Anaconda Prompt usar o seguine código \"<*diretório onde está o arquivo .ipynb*> jupyter nbconvert --to script seu_arquivo.ipynb\"\n"
   ]
  },
  {
   "cell_type": "code",
   "execution_count": null,
   "id": "e7a107e8",
   "metadata": {},
   "outputs": [],
   "source": [
    "### Por fim, basta rodar o código abaixo em algum terminal\n",
    "\n",
    "(nome_ambiente_virtual) <*Diretório onde está salvo os arquivos deste projeto*>>python -m streamlit run \"deploy_projeto_airbnb_rj.py\"\n",
    "\n",
    "### Será exibido a seguinte mensagem\n",
    "\n",
    "You can now view your Streamlit app in your browser.\n",
    "\n",
    "- Local URL: http://localhost:8501          --> é a URL que voce pode usar no seu navegador para ver a página do streamlit\n",
    "- Network URL: http://192.168.1.2:8501      --> é a URL que outras pessoas conectadas na mesma rede wifi que você poderão usar para ver a página do streamlit"
   ]
  }
 ],
 "metadata": {
  "kernelspec": {
   "display_name": "base",
   "language": "python",
   "name": "python3"
  },
  "language_info": {
   "codemirror_mode": {
    "name": "ipython",
    "version": 3
   },
   "file_extension": ".py",
   "mimetype": "text/x-python",
   "name": "python",
   "nbconvert_exporter": "python",
   "pygments_lexer": "ipython3",
   "version": "3.11.7"
  }
 },
 "nbformat": 4,
 "nbformat_minor": 5
}
